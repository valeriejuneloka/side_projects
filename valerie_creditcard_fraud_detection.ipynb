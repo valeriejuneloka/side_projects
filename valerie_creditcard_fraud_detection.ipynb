{
  "nbformat": 4,
  "nbformat_minor": 0,
  "metadata": {
    "colab": {
      "name": "valerie_creditcard_fraud_detection.ipynb",
      "provenance": []
    },
    "kernelspec": {
      "name": "python3",
      "display_name": "Python 3"
    }
  },
  "cells": [
    {
      "cell_type": "markdown",
      "metadata": {
        "id": "EO-6fGnWuCc3",
        "colab_type": "text"
      },
      "source": [
        "### After some research later, I found that a CNN-based fraud detection network is proposed to capture the intrinsic patterns of fraud behaviors learned from labeled data.\n",
        "\n",
        "### Thus, here I will perform CNN on the dataset for credit card fraud detection."
      ]
    },
    {
      "cell_type": "code",
      "metadata": {
        "id": "WWbra5eByKzs",
        "colab_type": "code",
        "colab": {}
      },
      "source": [
        "import tensorflow as tf\n",
        "from tensorflow.keras import Sequential\n",
        "from tensorflow.keras.layers import BatchNormalization,Dropout,Dense,Flatten,Conv1D, MaxPooling1D\n",
        "from tensorflow.keras.optimizers import Adam\n",
        "\n",
        "import numpy as np\n",
        "import pandas as pd\n",
        "import matplotlib.pyplot as plt\n",
        "%matplotlib inline\n",
        "\n",
        "from sklearn.model_selection import train_test_split\n",
        "from sklearn.preprocessing import StandardScaler"
      ],
      "execution_count": 1,
      "outputs": []
    },
    {
      "cell_type": "code",
      "metadata": {
        "id": "XOMXgjywtjA4",
        "colab_type": "code",
        "colab": {
          "base_uri": "https://localhost:8080/",
          "height": 55
        },
        "outputId": "d8b19248-17f6-4c0b-fa41-f8e8b3b65d15"
      },
      "source": [
        "from google.colab import drive\n",
        "drive.mount('/content/gdrive')\n",
        "\n",
        "df = pd.read_csv('/content/gdrive/My Drive/Colab Notebooks/creditcard.csv.zip')"
      ],
      "execution_count": 2,
      "outputs": [
        {
          "output_type": "stream",
          "text": [
            "Drive already mounted at /content/gdrive; to attempt to forcibly remount, call drive.mount(\"/content/gdrive\", force_remount=True).\n"
          ],
          "name": "stdout"
        }
      ]
    },
    {
      "cell_type": "markdown",
      "metadata": {
        "id": "Z1Rcb6oH2rM8",
        "colab_type": "text"
      },
      "source": [
        "# 1. Exploring and Assessing the Data\n",
        "### *   V1, V2, … V28 are the principal components obtained with PCA\n",
        "### *   features which have not been transformed with PCA are 'Time' and 'Amount'\n",
        "### *   'Time' contains the seconds elapsed between **each transaction** and the **first transaction** in the dataset\n",
        "### *   'Amount' is the transaction Amount, this feature can be used for example-dependant cost-senstive learning\n",
        "### *   'Class' is the response variable and it takes value 1 in case of fraud and 0 otherwise."
      ]
    },
    {
      "cell_type": "code",
      "metadata": {
        "id": "tWUWhbbbt22l",
        "colab_type": "code",
        "colab": {
          "base_uri": "https://localhost:8080/",
          "height": 218
        },
        "outputId": "d02cfa38-ed04-47a2-9ab3-74b46dd704d4"
      },
      "source": [
        "df.head()"
      ],
      "execution_count": 3,
      "outputs": [
        {
          "output_type": "execute_result",
          "data": {
            "text/html": [
              "<div>\n",
              "<style scoped>\n",
              "    .dataframe tbody tr th:only-of-type {\n",
              "        vertical-align: middle;\n",
              "    }\n",
              "\n",
              "    .dataframe tbody tr th {\n",
              "        vertical-align: top;\n",
              "    }\n",
              "\n",
              "    .dataframe thead th {\n",
              "        text-align: right;\n",
              "    }\n",
              "</style>\n",
              "<table border=\"1\" class=\"dataframe\">\n",
              "  <thead>\n",
              "    <tr style=\"text-align: right;\">\n",
              "      <th></th>\n",
              "      <th>Time</th>\n",
              "      <th>V1</th>\n",
              "      <th>V2</th>\n",
              "      <th>V3</th>\n",
              "      <th>V4</th>\n",
              "      <th>V5</th>\n",
              "      <th>V6</th>\n",
              "      <th>V7</th>\n",
              "      <th>V8</th>\n",
              "      <th>V9</th>\n",
              "      <th>V10</th>\n",
              "      <th>V11</th>\n",
              "      <th>V12</th>\n",
              "      <th>V13</th>\n",
              "      <th>V14</th>\n",
              "      <th>V15</th>\n",
              "      <th>V16</th>\n",
              "      <th>V17</th>\n",
              "      <th>V18</th>\n",
              "      <th>V19</th>\n",
              "      <th>V20</th>\n",
              "      <th>V21</th>\n",
              "      <th>V22</th>\n",
              "      <th>V23</th>\n",
              "      <th>V24</th>\n",
              "      <th>V25</th>\n",
              "      <th>V26</th>\n",
              "      <th>V27</th>\n",
              "      <th>V28</th>\n",
              "      <th>Amount</th>\n",
              "      <th>Class</th>\n",
              "    </tr>\n",
              "  </thead>\n",
              "  <tbody>\n",
              "    <tr>\n",
              "      <th>0</th>\n",
              "      <td>0.0</td>\n",
              "      <td>-1.359807</td>\n",
              "      <td>-0.072781</td>\n",
              "      <td>2.536347</td>\n",
              "      <td>1.378155</td>\n",
              "      <td>-0.338321</td>\n",
              "      <td>0.462388</td>\n",
              "      <td>0.239599</td>\n",
              "      <td>0.098698</td>\n",
              "      <td>0.363787</td>\n",
              "      <td>0.090794</td>\n",
              "      <td>-0.551600</td>\n",
              "      <td>-0.617801</td>\n",
              "      <td>-0.991390</td>\n",
              "      <td>-0.311169</td>\n",
              "      <td>1.468177</td>\n",
              "      <td>-0.470401</td>\n",
              "      <td>0.207971</td>\n",
              "      <td>0.025791</td>\n",
              "      <td>0.403993</td>\n",
              "      <td>0.251412</td>\n",
              "      <td>-0.018307</td>\n",
              "      <td>0.277838</td>\n",
              "      <td>-0.110474</td>\n",
              "      <td>0.066928</td>\n",
              "      <td>0.128539</td>\n",
              "      <td>-0.189115</td>\n",
              "      <td>0.133558</td>\n",
              "      <td>-0.021053</td>\n",
              "      <td>149.62</td>\n",
              "      <td>0</td>\n",
              "    </tr>\n",
              "    <tr>\n",
              "      <th>1</th>\n",
              "      <td>0.0</td>\n",
              "      <td>1.191857</td>\n",
              "      <td>0.266151</td>\n",
              "      <td>0.166480</td>\n",
              "      <td>0.448154</td>\n",
              "      <td>0.060018</td>\n",
              "      <td>-0.082361</td>\n",
              "      <td>-0.078803</td>\n",
              "      <td>0.085102</td>\n",
              "      <td>-0.255425</td>\n",
              "      <td>-0.166974</td>\n",
              "      <td>1.612727</td>\n",
              "      <td>1.065235</td>\n",
              "      <td>0.489095</td>\n",
              "      <td>-0.143772</td>\n",
              "      <td>0.635558</td>\n",
              "      <td>0.463917</td>\n",
              "      <td>-0.114805</td>\n",
              "      <td>-0.183361</td>\n",
              "      <td>-0.145783</td>\n",
              "      <td>-0.069083</td>\n",
              "      <td>-0.225775</td>\n",
              "      <td>-0.638672</td>\n",
              "      <td>0.101288</td>\n",
              "      <td>-0.339846</td>\n",
              "      <td>0.167170</td>\n",
              "      <td>0.125895</td>\n",
              "      <td>-0.008983</td>\n",
              "      <td>0.014724</td>\n",
              "      <td>2.69</td>\n",
              "      <td>0</td>\n",
              "    </tr>\n",
              "    <tr>\n",
              "      <th>2</th>\n",
              "      <td>1.0</td>\n",
              "      <td>-1.358354</td>\n",
              "      <td>-1.340163</td>\n",
              "      <td>1.773209</td>\n",
              "      <td>0.379780</td>\n",
              "      <td>-0.503198</td>\n",
              "      <td>1.800499</td>\n",
              "      <td>0.791461</td>\n",
              "      <td>0.247676</td>\n",
              "      <td>-1.514654</td>\n",
              "      <td>0.207643</td>\n",
              "      <td>0.624501</td>\n",
              "      <td>0.066084</td>\n",
              "      <td>0.717293</td>\n",
              "      <td>-0.165946</td>\n",
              "      <td>2.345865</td>\n",
              "      <td>-2.890083</td>\n",
              "      <td>1.109969</td>\n",
              "      <td>-0.121359</td>\n",
              "      <td>-2.261857</td>\n",
              "      <td>0.524980</td>\n",
              "      <td>0.247998</td>\n",
              "      <td>0.771679</td>\n",
              "      <td>0.909412</td>\n",
              "      <td>-0.689281</td>\n",
              "      <td>-0.327642</td>\n",
              "      <td>-0.139097</td>\n",
              "      <td>-0.055353</td>\n",
              "      <td>-0.059752</td>\n",
              "      <td>378.66</td>\n",
              "      <td>0</td>\n",
              "    </tr>\n",
              "    <tr>\n",
              "      <th>3</th>\n",
              "      <td>1.0</td>\n",
              "      <td>-0.966272</td>\n",
              "      <td>-0.185226</td>\n",
              "      <td>1.792993</td>\n",
              "      <td>-0.863291</td>\n",
              "      <td>-0.010309</td>\n",
              "      <td>1.247203</td>\n",
              "      <td>0.237609</td>\n",
              "      <td>0.377436</td>\n",
              "      <td>-1.387024</td>\n",
              "      <td>-0.054952</td>\n",
              "      <td>-0.226487</td>\n",
              "      <td>0.178228</td>\n",
              "      <td>0.507757</td>\n",
              "      <td>-0.287924</td>\n",
              "      <td>-0.631418</td>\n",
              "      <td>-1.059647</td>\n",
              "      <td>-0.684093</td>\n",
              "      <td>1.965775</td>\n",
              "      <td>-1.232622</td>\n",
              "      <td>-0.208038</td>\n",
              "      <td>-0.108300</td>\n",
              "      <td>0.005274</td>\n",
              "      <td>-0.190321</td>\n",
              "      <td>-1.175575</td>\n",
              "      <td>0.647376</td>\n",
              "      <td>-0.221929</td>\n",
              "      <td>0.062723</td>\n",
              "      <td>0.061458</td>\n",
              "      <td>123.50</td>\n",
              "      <td>0</td>\n",
              "    </tr>\n",
              "    <tr>\n",
              "      <th>4</th>\n",
              "      <td>2.0</td>\n",
              "      <td>-1.158233</td>\n",
              "      <td>0.877737</td>\n",
              "      <td>1.548718</td>\n",
              "      <td>0.403034</td>\n",
              "      <td>-0.407193</td>\n",
              "      <td>0.095921</td>\n",
              "      <td>0.592941</td>\n",
              "      <td>-0.270533</td>\n",
              "      <td>0.817739</td>\n",
              "      <td>0.753074</td>\n",
              "      <td>-0.822843</td>\n",
              "      <td>0.538196</td>\n",
              "      <td>1.345852</td>\n",
              "      <td>-1.119670</td>\n",
              "      <td>0.175121</td>\n",
              "      <td>-0.451449</td>\n",
              "      <td>-0.237033</td>\n",
              "      <td>-0.038195</td>\n",
              "      <td>0.803487</td>\n",
              "      <td>0.408542</td>\n",
              "      <td>-0.009431</td>\n",
              "      <td>0.798278</td>\n",
              "      <td>-0.137458</td>\n",
              "      <td>0.141267</td>\n",
              "      <td>-0.206010</td>\n",
              "      <td>0.502292</td>\n",
              "      <td>0.219422</td>\n",
              "      <td>0.215153</td>\n",
              "      <td>69.99</td>\n",
              "      <td>0</td>\n",
              "    </tr>\n",
              "  </tbody>\n",
              "</table>\n",
              "</div>"
            ],
            "text/plain": [
              "   Time        V1        V2        V3  ...       V27       V28  Amount  Class\n",
              "0   0.0 -1.359807 -0.072781  2.536347  ...  0.133558 -0.021053  149.62      0\n",
              "1   0.0  1.191857  0.266151  0.166480  ... -0.008983  0.014724    2.69      0\n",
              "2   1.0 -1.358354 -1.340163  1.773209  ... -0.055353 -0.059752  378.66      0\n",
              "3   1.0 -0.966272 -0.185226  1.792993  ...  0.062723  0.061458  123.50      0\n",
              "4   2.0 -1.158233  0.877737  1.548718  ...  0.219422  0.215153   69.99      0\n",
              "\n",
              "[5 rows x 31 columns]"
            ]
          },
          "metadata": {
            "tags": []
          },
          "execution_count": 3
        }
      ]
    },
    {
      "cell_type": "code",
      "metadata": {
        "id": "lAqlk-7UuGQ1",
        "colab_type": "code",
        "colab": {
          "base_uri": "https://localhost:8080/",
          "height": 35
        },
        "outputId": "90e3312e-8288-4dc5-faed-2c399f5a7c5d"
      },
      "source": [
        "df.shape"
      ],
      "execution_count": 4,
      "outputs": [
        {
          "output_type": "execute_result",
          "data": {
            "text/plain": [
              "(284807, 31)"
            ]
          },
          "metadata": {
            "tags": []
          },
          "execution_count": 4
        }
      ]
    },
    {
      "cell_type": "code",
      "metadata": {
        "id": "2DORaK2wuIUk",
        "colab_type": "code",
        "colab": {
          "base_uri": "https://localhost:8080/",
          "height": 674
        },
        "outputId": "9d38d360-c7e1-4cc1-a602-7cedb38a5a3d"
      },
      "source": [
        "df.info()"
      ],
      "execution_count": 5,
      "outputs": [
        {
          "output_type": "stream",
          "text": [
            "<class 'pandas.core.frame.DataFrame'>\n",
            "RangeIndex: 284807 entries, 0 to 284806\n",
            "Data columns (total 31 columns):\n",
            " #   Column  Non-Null Count   Dtype  \n",
            "---  ------  --------------   -----  \n",
            " 0   Time    284807 non-null  float64\n",
            " 1   V1      284807 non-null  float64\n",
            " 2   V2      284807 non-null  float64\n",
            " 3   V3      284807 non-null  float64\n",
            " 4   V4      284807 non-null  float64\n",
            " 5   V5      284807 non-null  float64\n",
            " 6   V6      284807 non-null  float64\n",
            " 7   V7      284807 non-null  float64\n",
            " 8   V8      284807 non-null  float64\n",
            " 9   V9      284807 non-null  float64\n",
            " 10  V10     284807 non-null  float64\n",
            " 11  V11     284807 non-null  float64\n",
            " 12  V12     284807 non-null  float64\n",
            " 13  V13     284807 non-null  float64\n",
            " 14  V14     284807 non-null  float64\n",
            " 15  V15     284807 non-null  float64\n",
            " 16  V16     284807 non-null  float64\n",
            " 17  V17     284807 non-null  float64\n",
            " 18  V18     284807 non-null  float64\n",
            " 19  V19     284807 non-null  float64\n",
            " 20  V20     284807 non-null  float64\n",
            " 21  V21     284807 non-null  float64\n",
            " 22  V22     284807 non-null  float64\n",
            " 23  V23     284807 non-null  float64\n",
            " 24  V24     284807 non-null  float64\n",
            " 25  V25     284807 non-null  float64\n",
            " 26  V26     284807 non-null  float64\n",
            " 27  V27     284807 non-null  float64\n",
            " 28  V28     284807 non-null  float64\n",
            " 29  Amount  284807 non-null  float64\n",
            " 30  Class   284807 non-null  int64  \n",
            "dtypes: float64(30), int64(1)\n",
            "memory usage: 67.4 MB\n"
          ],
          "name": "stdout"
        }
      ]
    },
    {
      "cell_type": "code",
      "metadata": {
        "id": "UnW1VmIn3Bgz",
        "colab_type": "code",
        "colab": {
          "base_uri": "https://localhost:8080/",
          "height": 570
        },
        "outputId": "ca752a4c-9c22-4f0f-ae51-56186542c0e3"
      },
      "source": [
        "# check for any null values in dataset\n",
        "df.isnull().sum()"
      ],
      "execution_count": 6,
      "outputs": [
        {
          "output_type": "execute_result",
          "data": {
            "text/plain": [
              "Time      0\n",
              "V1        0\n",
              "V2        0\n",
              "V3        0\n",
              "V4        0\n",
              "V5        0\n",
              "V6        0\n",
              "V7        0\n",
              "V8        0\n",
              "V9        0\n",
              "V10       0\n",
              "V11       0\n",
              "V12       0\n",
              "V13       0\n",
              "V14       0\n",
              "V15       0\n",
              "V16       0\n",
              "V17       0\n",
              "V18       0\n",
              "V19       0\n",
              "V20       0\n",
              "V21       0\n",
              "V22       0\n",
              "V23       0\n",
              "V24       0\n",
              "V25       0\n",
              "V26       0\n",
              "V27       0\n",
              "V28       0\n",
              "Amount    0\n",
              "Class     0\n",
              "dtype: int64"
            ]
          },
          "metadata": {
            "tags": []
          },
          "execution_count": 6
        }
      ]
    },
    {
      "cell_type": "markdown",
      "metadata": {
        "id": "3hINsDCgSt9U",
        "colab_type": "text"
      },
      "source": [
        "# 2. Uneven class distribution\n",
        "\n",
        "### This dataset presents transactions that occurred in two days, where we have 492 frauds out of 284,807 transactions. The dataset is highly unbalanced, the positive class (frauds) account for 0.172% of all transactions."
      ]
    },
    {
      "cell_type": "code",
      "metadata": {
        "id": "e7FEzfDKuLgo",
        "colab_type": "code",
        "colab": {
          "base_uri": "https://localhost:8080/",
          "height": 69
        },
        "outputId": "a3a02ded-fdca-4681-bdb9-6d9ce21bb661"
      },
      "source": [
        "# check amount of fraud(1) and non-fraud(0) transactions\n",
        "df.Class.value_counts()"
      ],
      "execution_count": 7,
      "outputs": [
        {
          "output_type": "execute_result",
          "data": {
            "text/plain": [
              "0    284315\n",
              "1       492\n",
              "Name: Class, dtype: int64"
            ]
          },
          "metadata": {
            "tags": []
          },
          "execution_count": 7
        }
      ]
    },
    {
      "cell_type": "code",
      "metadata": {
        "id": "hXVLZtXYuSJu",
        "colab_type": "code",
        "colab": {}
      },
      "source": [
        "non_fraud = df[df.Class==0] # dataset with class 0 only\n",
        "fraud = df[df.Class==1] # dataset with class 1 only"
      ],
      "execution_count": 8,
      "outputs": []
    },
    {
      "cell_type": "code",
      "metadata": {
        "id": "o9xR_iS-R1Z4",
        "colab_type": "code",
        "colab": {
          "base_uri": "https://localhost:8080/",
          "height": 35
        },
        "outputId": "e845adcf-2c1c-4bb6-bd5d-638638111b0d"
      },
      "source": [
        "non_fraud.shape, fraud.shape"
      ],
      "execution_count": 9,
      "outputs": [
        {
          "output_type": "execute_result",
          "data": {
            "text/plain": [
              "((284315, 31), (492, 31))"
            ]
          },
          "metadata": {
            "tags": []
          },
          "execution_count": 9
        }
      ]
    },
    {
      "cell_type": "markdown",
      "metadata": {
        "id": "QhN4LHLSVnRp",
        "colab_type": "text"
      },
      "source": [
        "### To deal the uneven class distributiion, I extracted the equal amount of fraud transactions (492) from non-frauds randomly. Now `non_fraud.shape = fraud.shape`, so we can say the data is now balanced!"
      ]
    },
    {
      "cell_type": "code",
      "metadata": {
        "id": "-C5HbjvCuZsc",
        "colab_type": "code",
        "colab": {}
      },
      "source": [
        "non_fraud = non_fraud.sample(492)"
      ],
      "execution_count": 10,
      "outputs": []
    },
    {
      "cell_type": "code",
      "metadata": {
        "id": "_jpJN9SxuehA",
        "colab_type": "code",
        "colab": {
          "base_uri": "https://localhost:8080/",
          "height": 427
        },
        "outputId": "49aebf53-a7aa-49c6-952a-b10a906ec3bb"
      },
      "source": [
        "data = fraud.append(non_fraud, ignore_index=True) # 492(fraud) + 738(no fraud) = 1230\n",
        "data"
      ],
      "execution_count": 11,
      "outputs": [
        {
          "output_type": "execute_result",
          "data": {
            "text/html": [
              "<div>\n",
              "<style scoped>\n",
              "    .dataframe tbody tr th:only-of-type {\n",
              "        vertical-align: middle;\n",
              "    }\n",
              "\n",
              "    .dataframe tbody tr th {\n",
              "        vertical-align: top;\n",
              "    }\n",
              "\n",
              "    .dataframe thead th {\n",
              "        text-align: right;\n",
              "    }\n",
              "</style>\n",
              "<table border=\"1\" class=\"dataframe\">\n",
              "  <thead>\n",
              "    <tr style=\"text-align: right;\">\n",
              "      <th></th>\n",
              "      <th>Time</th>\n",
              "      <th>V1</th>\n",
              "      <th>V2</th>\n",
              "      <th>V3</th>\n",
              "      <th>V4</th>\n",
              "      <th>V5</th>\n",
              "      <th>V6</th>\n",
              "      <th>V7</th>\n",
              "      <th>V8</th>\n",
              "      <th>V9</th>\n",
              "      <th>V10</th>\n",
              "      <th>V11</th>\n",
              "      <th>V12</th>\n",
              "      <th>V13</th>\n",
              "      <th>V14</th>\n",
              "      <th>V15</th>\n",
              "      <th>V16</th>\n",
              "      <th>V17</th>\n",
              "      <th>V18</th>\n",
              "      <th>V19</th>\n",
              "      <th>V20</th>\n",
              "      <th>V21</th>\n",
              "      <th>V22</th>\n",
              "      <th>V23</th>\n",
              "      <th>V24</th>\n",
              "      <th>V25</th>\n",
              "      <th>V26</th>\n",
              "      <th>V27</th>\n",
              "      <th>V28</th>\n",
              "      <th>Amount</th>\n",
              "      <th>Class</th>\n",
              "    </tr>\n",
              "  </thead>\n",
              "  <tbody>\n",
              "    <tr>\n",
              "      <th>0</th>\n",
              "      <td>406.0</td>\n",
              "      <td>-2.312227</td>\n",
              "      <td>1.951992</td>\n",
              "      <td>-1.609851</td>\n",
              "      <td>3.997906</td>\n",
              "      <td>-0.522188</td>\n",
              "      <td>-1.426545</td>\n",
              "      <td>-2.537387</td>\n",
              "      <td>1.391657</td>\n",
              "      <td>-2.770089</td>\n",
              "      <td>-2.772272</td>\n",
              "      <td>3.202033</td>\n",
              "      <td>-2.899907</td>\n",
              "      <td>-0.595222</td>\n",
              "      <td>-4.289254</td>\n",
              "      <td>0.389724</td>\n",
              "      <td>-1.140747</td>\n",
              "      <td>-2.830056</td>\n",
              "      <td>-0.016822</td>\n",
              "      <td>0.416956</td>\n",
              "      <td>0.126911</td>\n",
              "      <td>0.517232</td>\n",
              "      <td>-0.035049</td>\n",
              "      <td>-0.465211</td>\n",
              "      <td>0.320198</td>\n",
              "      <td>0.044519</td>\n",
              "      <td>0.177840</td>\n",
              "      <td>0.261145</td>\n",
              "      <td>-0.143276</td>\n",
              "      <td>0.00</td>\n",
              "      <td>1</td>\n",
              "    </tr>\n",
              "    <tr>\n",
              "      <th>1</th>\n",
              "      <td>472.0</td>\n",
              "      <td>-3.043541</td>\n",
              "      <td>-3.157307</td>\n",
              "      <td>1.088463</td>\n",
              "      <td>2.288644</td>\n",
              "      <td>1.359805</td>\n",
              "      <td>-1.064823</td>\n",
              "      <td>0.325574</td>\n",
              "      <td>-0.067794</td>\n",
              "      <td>-0.270953</td>\n",
              "      <td>-0.838587</td>\n",
              "      <td>-0.414575</td>\n",
              "      <td>-0.503141</td>\n",
              "      <td>0.676502</td>\n",
              "      <td>-1.692029</td>\n",
              "      <td>2.000635</td>\n",
              "      <td>0.666780</td>\n",
              "      <td>0.599717</td>\n",
              "      <td>1.725321</td>\n",
              "      <td>0.283345</td>\n",
              "      <td>2.102339</td>\n",
              "      <td>0.661696</td>\n",
              "      <td>0.435477</td>\n",
              "      <td>1.375966</td>\n",
              "      <td>-0.293803</td>\n",
              "      <td>0.279798</td>\n",
              "      <td>-0.145362</td>\n",
              "      <td>-0.252773</td>\n",
              "      <td>0.035764</td>\n",
              "      <td>529.00</td>\n",
              "      <td>1</td>\n",
              "    </tr>\n",
              "    <tr>\n",
              "      <th>2</th>\n",
              "      <td>4462.0</td>\n",
              "      <td>-2.303350</td>\n",
              "      <td>1.759247</td>\n",
              "      <td>-0.359745</td>\n",
              "      <td>2.330243</td>\n",
              "      <td>-0.821628</td>\n",
              "      <td>-0.075788</td>\n",
              "      <td>0.562320</td>\n",
              "      <td>-0.399147</td>\n",
              "      <td>-0.238253</td>\n",
              "      <td>-1.525412</td>\n",
              "      <td>2.032912</td>\n",
              "      <td>-6.560124</td>\n",
              "      <td>0.022937</td>\n",
              "      <td>-1.470102</td>\n",
              "      <td>-0.698826</td>\n",
              "      <td>-2.282194</td>\n",
              "      <td>-4.781831</td>\n",
              "      <td>-2.615665</td>\n",
              "      <td>-1.334441</td>\n",
              "      <td>-0.430022</td>\n",
              "      <td>-0.294166</td>\n",
              "      <td>-0.932391</td>\n",
              "      <td>0.172726</td>\n",
              "      <td>-0.087330</td>\n",
              "      <td>-0.156114</td>\n",
              "      <td>-0.542628</td>\n",
              "      <td>0.039566</td>\n",
              "      <td>-0.153029</td>\n",
              "      <td>239.93</td>\n",
              "      <td>1</td>\n",
              "    </tr>\n",
              "    <tr>\n",
              "      <th>3</th>\n",
              "      <td>6986.0</td>\n",
              "      <td>-4.397974</td>\n",
              "      <td>1.358367</td>\n",
              "      <td>-2.592844</td>\n",
              "      <td>2.679787</td>\n",
              "      <td>-1.128131</td>\n",
              "      <td>-1.706536</td>\n",
              "      <td>-3.496197</td>\n",
              "      <td>-0.248778</td>\n",
              "      <td>-0.247768</td>\n",
              "      <td>-4.801637</td>\n",
              "      <td>4.895844</td>\n",
              "      <td>-10.912819</td>\n",
              "      <td>0.184372</td>\n",
              "      <td>-6.771097</td>\n",
              "      <td>-0.007326</td>\n",
              "      <td>-7.358083</td>\n",
              "      <td>-12.598419</td>\n",
              "      <td>-5.131549</td>\n",
              "      <td>0.308334</td>\n",
              "      <td>-0.171608</td>\n",
              "      <td>0.573574</td>\n",
              "      <td>0.176968</td>\n",
              "      <td>-0.436207</td>\n",
              "      <td>-0.053502</td>\n",
              "      <td>0.252405</td>\n",
              "      <td>-0.657488</td>\n",
              "      <td>-0.827136</td>\n",
              "      <td>0.849573</td>\n",
              "      <td>59.00</td>\n",
              "      <td>1</td>\n",
              "    </tr>\n",
              "    <tr>\n",
              "      <th>4</th>\n",
              "      <td>7519.0</td>\n",
              "      <td>1.234235</td>\n",
              "      <td>3.019740</td>\n",
              "      <td>-4.304597</td>\n",
              "      <td>4.732795</td>\n",
              "      <td>3.624201</td>\n",
              "      <td>-1.357746</td>\n",
              "      <td>1.713445</td>\n",
              "      <td>-0.496358</td>\n",
              "      <td>-1.282858</td>\n",
              "      <td>-2.447469</td>\n",
              "      <td>2.101344</td>\n",
              "      <td>-4.609628</td>\n",
              "      <td>1.464378</td>\n",
              "      <td>-6.079337</td>\n",
              "      <td>-0.339237</td>\n",
              "      <td>2.581851</td>\n",
              "      <td>6.739384</td>\n",
              "      <td>3.042493</td>\n",
              "      <td>-2.721853</td>\n",
              "      <td>0.009061</td>\n",
              "      <td>-0.379068</td>\n",
              "      <td>-0.704181</td>\n",
              "      <td>-0.656805</td>\n",
              "      <td>-1.632653</td>\n",
              "      <td>1.488901</td>\n",
              "      <td>0.566797</td>\n",
              "      <td>-0.010016</td>\n",
              "      <td>0.146793</td>\n",
              "      <td>1.00</td>\n",
              "      <td>1</td>\n",
              "    </tr>\n",
              "    <tr>\n",
              "      <th>...</th>\n",
              "      <td>...</td>\n",
              "      <td>...</td>\n",
              "      <td>...</td>\n",
              "      <td>...</td>\n",
              "      <td>...</td>\n",
              "      <td>...</td>\n",
              "      <td>...</td>\n",
              "      <td>...</td>\n",
              "      <td>...</td>\n",
              "      <td>...</td>\n",
              "      <td>...</td>\n",
              "      <td>...</td>\n",
              "      <td>...</td>\n",
              "      <td>...</td>\n",
              "      <td>...</td>\n",
              "      <td>...</td>\n",
              "      <td>...</td>\n",
              "      <td>...</td>\n",
              "      <td>...</td>\n",
              "      <td>...</td>\n",
              "      <td>...</td>\n",
              "      <td>...</td>\n",
              "      <td>...</td>\n",
              "      <td>...</td>\n",
              "      <td>...</td>\n",
              "      <td>...</td>\n",
              "      <td>...</td>\n",
              "      <td>...</td>\n",
              "      <td>...</td>\n",
              "      <td>...</td>\n",
              "      <td>...</td>\n",
              "    </tr>\n",
              "    <tr>\n",
              "      <th>979</th>\n",
              "      <td>143959.0</td>\n",
              "      <td>2.046396</td>\n",
              "      <td>0.274132</td>\n",
              "      <td>-1.725500</td>\n",
              "      <td>0.549005</td>\n",
              "      <td>0.233682</td>\n",
              "      <td>-1.528319</td>\n",
              "      <td>0.338430</td>\n",
              "      <td>-0.441672</td>\n",
              "      <td>0.471975</td>\n",
              "      <td>-0.538456</td>\n",
              "      <td>-0.182146</td>\n",
              "      <td>0.447139</td>\n",
              "      <td>0.741870</td>\n",
              "      <td>-0.980385</td>\n",
              "      <td>0.825814</td>\n",
              "      <td>0.198546</td>\n",
              "      <td>0.437020</td>\n",
              "      <td>0.450875</td>\n",
              "      <td>-0.458095</td>\n",
              "      <td>-0.145029</td>\n",
              "      <td>0.202288</td>\n",
              "      <td>0.786607</td>\n",
              "      <td>-0.034560</td>\n",
              "      <td>-0.005432</td>\n",
              "      <td>0.275683</td>\n",
              "      <td>-0.107035</td>\n",
              "      <td>0.002836</td>\n",
              "      <td>-0.026231</td>\n",
              "      <td>8.64</td>\n",
              "      <td>0</td>\n",
              "    </tr>\n",
              "    <tr>\n",
              "      <th>980</th>\n",
              "      <td>49674.0</td>\n",
              "      <td>1.240979</td>\n",
              "      <td>0.523695</td>\n",
              "      <td>-0.261839</td>\n",
              "      <td>0.971426</td>\n",
              "      <td>-0.316965</td>\n",
              "      <td>-1.746610</td>\n",
              "      <td>0.322392</td>\n",
              "      <td>-0.280320</td>\n",
              "      <td>-0.005271</td>\n",
              "      <td>-0.560932</td>\n",
              "      <td>0.374313</td>\n",
              "      <td>-0.569984</td>\n",
              "      <td>-1.400896</td>\n",
              "      <td>-0.733167</td>\n",
              "      <td>1.035672</td>\n",
              "      <td>0.361743</td>\n",
              "      <td>1.080467</td>\n",
              "      <td>0.118757</td>\n",
              "      <td>-0.515923</td>\n",
              "      <td>-0.175031</td>\n",
              "      <td>-0.117520</td>\n",
              "      <td>-0.346626</td>\n",
              "      <td>0.001765</td>\n",
              "      <td>0.796670</td>\n",
              "      <td>0.457759</td>\n",
              "      <td>0.339913</td>\n",
              "      <td>-0.041498</td>\n",
              "      <td>0.039346</td>\n",
              "      <td>0.76</td>\n",
              "      <td>0</td>\n",
              "    </tr>\n",
              "    <tr>\n",
              "      <th>981</th>\n",
              "      <td>59174.0</td>\n",
              "      <td>-0.990303</td>\n",
              "      <td>-0.767309</td>\n",
              "      <td>2.720717</td>\n",
              "      <td>0.701788</td>\n",
              "      <td>-0.550559</td>\n",
              "      <td>1.530591</td>\n",
              "      <td>-0.277609</td>\n",
              "      <td>0.437614</td>\n",
              "      <td>-0.990124</td>\n",
              "      <td>0.537495</td>\n",
              "      <td>0.866140</td>\n",
              "      <td>0.187374</td>\n",
              "      <td>-0.723500</td>\n",
              "      <td>-0.414429</td>\n",
              "      <td>-0.255595</td>\n",
              "      <td>-2.584656</td>\n",
              "      <td>0.884029</td>\n",
              "      <td>1.051256</td>\n",
              "      <td>-0.052564</td>\n",
              "      <td>0.028323</td>\n",
              "      <td>-0.324361</td>\n",
              "      <td>-0.393585</td>\n",
              "      <td>0.242233</td>\n",
              "      <td>-0.353559</td>\n",
              "      <td>-0.049917</td>\n",
              "      <td>-0.246471</td>\n",
              "      <td>-0.035646</td>\n",
              "      <td>-0.126193</td>\n",
              "      <td>140.11</td>\n",
              "      <td>0</td>\n",
              "    </tr>\n",
              "    <tr>\n",
              "      <th>982</th>\n",
              "      <td>42628.0</td>\n",
              "      <td>0.346710</td>\n",
              "      <td>-2.657195</td>\n",
              "      <td>0.375268</td>\n",
              "      <td>-1.577909</td>\n",
              "      <td>-2.001368</td>\n",
              "      <td>0.268247</td>\n",
              "      <td>-0.536604</td>\n",
              "      <td>0.087068</td>\n",
              "      <td>0.705615</td>\n",
              "      <td>-0.608531</td>\n",
              "      <td>1.170644</td>\n",
              "      <td>1.834583</td>\n",
              "      <td>0.843227</td>\n",
              "      <td>-0.392036</td>\n",
              "      <td>-0.317104</td>\n",
              "      <td>-2.447741</td>\n",
              "      <td>0.561112</td>\n",
              "      <td>1.085078</td>\n",
              "      <td>0.149234</td>\n",
              "      <td>0.495675</td>\n",
              "      <td>-0.172665</td>\n",
              "      <td>-0.723140</td>\n",
              "      <td>-0.332291</td>\n",
              "      <td>0.070253</td>\n",
              "      <td>0.049905</td>\n",
              "      <td>-0.141142</td>\n",
              "      <td>0.002975</td>\n",
              "      <td>0.100102</td>\n",
              "      <td>487.54</td>\n",
              "      <td>0</td>\n",
              "    </tr>\n",
              "    <tr>\n",
              "      <th>983</th>\n",
              "      <td>81634.0</td>\n",
              "      <td>-0.419563</td>\n",
              "      <td>1.013427</td>\n",
              "      <td>1.385144</td>\n",
              "      <td>0.007638</td>\n",
              "      <td>-0.051851</td>\n",
              "      <td>-0.798798</td>\n",
              "      <td>0.569887</td>\n",
              "      <td>0.094160</td>\n",
              "      <td>-0.581670</td>\n",
              "      <td>-0.326917</td>\n",
              "      <td>1.571730</td>\n",
              "      <td>0.373961</td>\n",
              "      <td>-0.572276</td>\n",
              "      <td>-0.105547</td>\n",
              "      <td>0.242178</td>\n",
              "      <td>0.546415</td>\n",
              "      <td>-0.135437</td>\n",
              "      <td>0.362193</td>\n",
              "      <td>0.124975</td>\n",
              "      <td>0.094244</td>\n",
              "      <td>-0.201597</td>\n",
              "      <td>-0.587567</td>\n",
              "      <td>0.016249</td>\n",
              "      <td>0.468237</td>\n",
              "      <td>-0.234967</td>\n",
              "      <td>0.043623</td>\n",
              "      <td>0.236490</td>\n",
              "      <td>0.089625</td>\n",
              "      <td>6.28</td>\n",
              "      <td>0</td>\n",
              "    </tr>\n",
              "  </tbody>\n",
              "</table>\n",
              "<p>984 rows × 31 columns</p>\n",
              "</div>"
            ],
            "text/plain": [
              "         Time        V1        V2        V3  ...       V27       V28  Amount  Class\n",
              "0       406.0 -2.312227  1.951992 -1.609851  ...  0.261145 -0.143276    0.00      1\n",
              "1       472.0 -3.043541 -3.157307  1.088463  ... -0.252773  0.035764  529.00      1\n",
              "2      4462.0 -2.303350  1.759247 -0.359745  ...  0.039566 -0.153029  239.93      1\n",
              "3      6986.0 -4.397974  1.358367 -2.592844  ... -0.827136  0.849573   59.00      1\n",
              "4      7519.0  1.234235  3.019740 -4.304597  ... -0.010016  0.146793    1.00      1\n",
              "..        ...       ...       ...       ...  ...       ...       ...     ...    ...\n",
              "979  143959.0  2.046396  0.274132 -1.725500  ...  0.002836 -0.026231    8.64      0\n",
              "980   49674.0  1.240979  0.523695 -0.261839  ... -0.041498  0.039346    0.76      0\n",
              "981   59174.0 -0.990303 -0.767309  2.720717  ... -0.035646 -0.126193  140.11      0\n",
              "982   42628.0  0.346710 -2.657195  0.375268  ...  0.002975  0.100102  487.54      0\n",
              "983   81634.0 -0.419563  1.013427  1.385144  ...  0.236490  0.089625    6.28      0\n",
              "\n",
              "[984 rows x 31 columns]"
            ]
          },
          "metadata": {
            "tags": []
          },
          "execution_count": 11
        }
      ]
    },
    {
      "cell_type": "code",
      "metadata": {
        "id": "PoJQymwrug2B",
        "colab_type": "code",
        "colab": {
          "base_uri": "https://localhost:8080/",
          "height": 35
        },
        "outputId": "48cba52a-3b30-402b-9e2e-f0d40d7e2d1f"
      },
      "source": [
        "data.shape"
      ],
      "execution_count": 12,
      "outputs": [
        {
          "output_type": "execute_result",
          "data": {
            "text/plain": [
              "(984, 31)"
            ]
          },
          "metadata": {
            "tags": []
          },
          "execution_count": 12
        }
      ]
    },
    {
      "cell_type": "code",
      "metadata": {
        "id": "BtQaTtgwXTOD",
        "colab_type": "code",
        "colab": {
          "base_uri": "https://localhost:8080/",
          "height": 69
        },
        "outputId": "dcb5d3d9-546e-4dbc-c113-ea1981890366"
      },
      "source": [
        "# now the number of frauds and non-frauds should be equal\n",
        "data.Class.value_counts()"
      ],
      "execution_count": 13,
      "outputs": [
        {
          "output_type": "execute_result",
          "data": {
            "text/plain": [
              "1    492\n",
              "0    492\n",
              "Name: Class, dtype: int64"
            ]
          },
          "metadata": {
            "tags": []
          },
          "execution_count": 13
        }
      ]
    },
    {
      "cell_type": "markdown",
      "metadata": {
        "id": "Rx75G0IdXrN5",
        "colab_type": "text"
      },
      "source": [
        "#3. Dividing our now balanced dataset into Training, and Testing sets"
      ]
    },
    {
      "cell_type": "code",
      "metadata": {
        "id": "AejQxEVUukbZ",
        "colab_type": "code",
        "colab": {
          "base_uri": "https://localhost:8080/",
          "height": 225
        },
        "outputId": "b049d4a9-edd9-48dd-cc34-9bb1db2b682e"
      },
      "source": [
        "X = data.drop(['Class'], axis=1) # dataset without 'Class' column\n",
        "y = data['Class']\n",
        "y"
      ],
      "execution_count": 14,
      "outputs": [
        {
          "output_type": "execute_result",
          "data": {
            "text/plain": [
              "0      1\n",
              "1      1\n",
              "2      1\n",
              "3      1\n",
              "4      1\n",
              "      ..\n",
              "979    0\n",
              "980    0\n",
              "981    0\n",
              "982    0\n",
              "983    0\n",
              "Name: Class, Length: 984, dtype: int64"
            ]
          },
          "metadata": {
            "tags": []
          },
          "execution_count": 14
        }
      ]
    },
    {
      "cell_type": "code",
      "metadata": {
        "id": "ZdsIX8IyunGi",
        "colab_type": "code",
        "colab": {
          "base_uri": "https://localhost:8080/",
          "height": 35
        },
        "outputId": "4dedd731-b9b0-4f2a-80d7-88b5ced6b8dc"
      },
      "source": [
        "X_train,X_test,y_train,y_test=train_test_split(X, y, test_size=0.2, stratify=y)\n",
        "X_train.shape,X_test.shape"
      ],
      "execution_count": 15,
      "outputs": [
        {
          "output_type": "execute_result",
          "data": {
            "text/plain": [
              "((787, 30), (197, 30))"
            ]
          },
          "metadata": {
            "tags": []
          },
          "execution_count": 15
        }
      ]
    },
    {
      "cell_type": "code",
      "metadata": {
        "id": "rLt-4yvVus-S",
        "colab_type": "code",
        "colab": {
          "base_uri": "https://localhost:8080/",
          "height": 225
        },
        "outputId": "d6a043c2-218f-4d06-a7bc-84713a9e8304"
      },
      "source": [
        "y_train"
      ],
      "execution_count": 16,
      "outputs": [
        {
          "output_type": "execute_result",
          "data": {
            "text/plain": [
              "429    1\n",
              "594    0\n",
              "504    0\n",
              "579    0\n",
              "414    1\n",
              "      ..\n",
              "272    1\n",
              "794    0\n",
              "412    1\n",
              "839    0\n",
              "104    1\n",
              "Name: Class, Length: 787, dtype: int64"
            ]
          },
          "metadata": {
            "tags": []
          },
          "execution_count": 16
        }
      ]
    },
    {
      "cell_type": "code",
      "metadata": {
        "id": "xedBFOo9OldY",
        "colab_type": "code",
        "colab": {
          "base_uri": "https://localhost:8080/",
          "height": 427
        },
        "outputId": "56889be7-1a08-4770-8ea1-ec901b2e9a58"
      },
      "source": [
        "X_train"
      ],
      "execution_count": 17,
      "outputs": [
        {
          "output_type": "execute_result",
          "data": {
            "text/html": [
              "<div>\n",
              "<style scoped>\n",
              "    .dataframe tbody tr th:only-of-type {\n",
              "        vertical-align: middle;\n",
              "    }\n",
              "\n",
              "    .dataframe tbody tr th {\n",
              "        vertical-align: top;\n",
              "    }\n",
              "\n",
              "    .dataframe thead th {\n",
              "        text-align: right;\n",
              "    }\n",
              "</style>\n",
              "<table border=\"1\" class=\"dataframe\">\n",
              "  <thead>\n",
              "    <tr style=\"text-align: right;\">\n",
              "      <th></th>\n",
              "      <th>Time</th>\n",
              "      <th>V1</th>\n",
              "      <th>V2</th>\n",
              "      <th>V3</th>\n",
              "      <th>V4</th>\n",
              "      <th>V5</th>\n",
              "      <th>V6</th>\n",
              "      <th>V7</th>\n",
              "      <th>V8</th>\n",
              "      <th>V9</th>\n",
              "      <th>V10</th>\n",
              "      <th>V11</th>\n",
              "      <th>V12</th>\n",
              "      <th>V13</th>\n",
              "      <th>V14</th>\n",
              "      <th>V15</th>\n",
              "      <th>V16</th>\n",
              "      <th>V17</th>\n",
              "      <th>V18</th>\n",
              "      <th>V19</th>\n",
              "      <th>V20</th>\n",
              "      <th>V21</th>\n",
              "      <th>V22</th>\n",
              "      <th>V23</th>\n",
              "      <th>V24</th>\n",
              "      <th>V25</th>\n",
              "      <th>V26</th>\n",
              "      <th>V27</th>\n",
              "      <th>V28</th>\n",
              "      <th>Amount</th>\n",
              "    </tr>\n",
              "  </thead>\n",
              "  <tbody>\n",
              "    <tr>\n",
              "      <th>429</th>\n",
              "      <td>148479.0</td>\n",
              "      <td>-1.541678</td>\n",
              "      <td>3.846800</td>\n",
              "      <td>-7.604114</td>\n",
              "      <td>3.121459</td>\n",
              "      <td>-1.254924</td>\n",
              "      <td>-2.084875</td>\n",
              "      <td>-2.385027</td>\n",
              "      <td>1.471140</td>\n",
              "      <td>-2.530507</td>\n",
              "      <td>-5.175660</td>\n",
              "      <td>1.927186</td>\n",
              "      <td>-6.011155</td>\n",
              "      <td>-1.195601</td>\n",
              "      <td>-6.745561</td>\n",
              "      <td>-0.058091</td>\n",
              "      <td>-4.325132</td>\n",
              "      <td>-5.558067</td>\n",
              "      <td>-1.580531</td>\n",
              "      <td>0.971906</td>\n",
              "      <td>0.114760</td>\n",
              "      <td>1.096405</td>\n",
              "      <td>1.064222</td>\n",
              "      <td>0.065370</td>\n",
              "      <td>0.257209</td>\n",
              "      <td>-0.693654</td>\n",
              "      <td>-0.335702</td>\n",
              "      <td>0.577052</td>\n",
              "      <td>0.398348</td>\n",
              "      <td>122.68</td>\n",
              "    </tr>\n",
              "    <tr>\n",
              "      <th>594</th>\n",
              "      <td>124641.0</td>\n",
              "      <td>-1.697459</td>\n",
              "      <td>1.125117</td>\n",
              "      <td>0.972545</td>\n",
              "      <td>-0.807778</td>\n",
              "      <td>0.804043</td>\n",
              "      <td>0.328162</td>\n",
              "      <td>1.500448</td>\n",
              "      <td>-0.698200</td>\n",
              "      <td>1.905846</td>\n",
              "      <td>2.029610</td>\n",
              "      <td>0.596014</td>\n",
              "      <td>0.439339</td>\n",
              "      <td>-0.933631</td>\n",
              "      <td>-1.437006</td>\n",
              "      <td>-2.411074</td>\n",
              "      <td>-1.049723</td>\n",
              "      <td>-0.495757</td>\n",
              "      <td>-0.608921</td>\n",
              "      <td>0.721456</td>\n",
              "      <td>0.700127</td>\n",
              "      <td>-0.701474</td>\n",
              "      <td>-0.560431</td>\n",
              "      <td>-0.253674</td>\n",
              "      <td>0.765144</td>\n",
              "      <td>0.047617</td>\n",
              "      <td>-0.051781</td>\n",
              "      <td>-0.023450</td>\n",
              "      <td>-0.318815</td>\n",
              "      <td>44.02</td>\n",
              "    </tr>\n",
              "    <tr>\n",
              "      <th>504</th>\n",
              "      <td>160990.0</td>\n",
              "      <td>1.600931</td>\n",
              "      <td>-0.760494</td>\n",
              "      <td>-3.221276</td>\n",
              "      <td>-0.022574</td>\n",
              "      <td>1.617255</td>\n",
              "      <td>0.726604</td>\n",
              "      <td>0.885328</td>\n",
              "      <td>0.022721</td>\n",
              "      <td>0.130184</td>\n",
              "      <td>-0.063268</td>\n",
              "      <td>0.700622</td>\n",
              "      <td>0.295312</td>\n",
              "      <td>-1.500679</td>\n",
              "      <td>1.455636</td>\n",
              "      <td>0.275520</td>\n",
              "      <td>-1.521718</td>\n",
              "      <td>0.286981</td>\n",
              "      <td>-0.826277</td>\n",
              "      <td>-0.425521</td>\n",
              "      <td>0.042084</td>\n",
              "      <td>0.504631</td>\n",
              "      <td>1.174546</td>\n",
              "      <td>-0.394119</td>\n",
              "      <td>-0.902456</td>\n",
              "      <td>0.647124</td>\n",
              "      <td>-0.133101</td>\n",
              "      <td>-0.061431</td>\n",
              "      <td>-0.066921</td>\n",
              "      <td>222.04</td>\n",
              "    </tr>\n",
              "    <tr>\n",
              "      <th>579</th>\n",
              "      <td>60802.0</td>\n",
              "      <td>1.256891</td>\n",
              "      <td>0.412449</td>\n",
              "      <td>0.320474</td>\n",
              "      <td>0.684504</td>\n",
              "      <td>-0.296985</td>\n",
              "      <td>-1.050841</td>\n",
              "      <td>0.141931</td>\n",
              "      <td>-0.249621</td>\n",
              "      <td>-0.089946</td>\n",
              "      <td>-0.306569</td>\n",
              "      <td>0.067391</td>\n",
              "      <td>0.664494</td>\n",
              "      <td>1.037807</td>\n",
              "      <td>-0.449165</td>\n",
              "      <td>1.005392</td>\n",
              "      <td>0.442078</td>\n",
              "      <td>-0.053553</td>\n",
              "      <td>-0.396892</td>\n",
              "      <td>-0.201924</td>\n",
              "      <td>-0.028231</td>\n",
              "      <td>-0.278517</td>\n",
              "      <td>-0.764597</td>\n",
              "      <td>0.118785</td>\n",
              "      <td>0.362026</td>\n",
              "      <td>0.244178</td>\n",
              "      <td>0.092009</td>\n",
              "      <td>-0.017815</td>\n",
              "      <td>0.032544</td>\n",
              "      <td>1.98</td>\n",
              "    </tr>\n",
              "    <tr>\n",
              "      <th>414</th>\n",
              "      <td>143456.0</td>\n",
              "      <td>-2.006582</td>\n",
              "      <td>3.676577</td>\n",
              "      <td>-5.463811</td>\n",
              "      <td>7.232058</td>\n",
              "      <td>-1.627859</td>\n",
              "      <td>-0.996755</td>\n",
              "      <td>-4.299833</td>\n",
              "      <td>2.268867</td>\n",
              "      <td>-3.651067</td>\n",
              "      <td>-4.400930</td>\n",
              "      <td>4.213213</td>\n",
              "      <td>-5.737815</td>\n",
              "      <td>-0.875693</td>\n",
              "      <td>-8.893726</td>\n",
              "      <td>-0.562434</td>\n",
              "      <td>-3.281784</td>\n",
              "      <td>-4.368986</td>\n",
              "      <td>-0.736734</td>\n",
              "      <td>1.609293</td>\n",
              "      <td>0.474414</td>\n",
              "      <td>0.713907</td>\n",
              "      <td>-0.063868</td>\n",
              "      <td>0.167947</td>\n",
              "      <td>-0.449864</td>\n",
              "      <td>0.023702</td>\n",
              "      <td>0.536905</td>\n",
              "      <td>0.485864</td>\n",
              "      <td>-0.042393</td>\n",
              "      <td>1.00</td>\n",
              "    </tr>\n",
              "    <tr>\n",
              "      <th>...</th>\n",
              "      <td>...</td>\n",
              "      <td>...</td>\n",
              "      <td>...</td>\n",
              "      <td>...</td>\n",
              "      <td>...</td>\n",
              "      <td>...</td>\n",
              "      <td>...</td>\n",
              "      <td>...</td>\n",
              "      <td>...</td>\n",
              "      <td>...</td>\n",
              "      <td>...</td>\n",
              "      <td>...</td>\n",
              "      <td>...</td>\n",
              "      <td>...</td>\n",
              "      <td>...</td>\n",
              "      <td>...</td>\n",
              "      <td>...</td>\n",
              "      <td>...</td>\n",
              "      <td>...</td>\n",
              "      <td>...</td>\n",
              "      <td>...</td>\n",
              "      <td>...</td>\n",
              "      <td>...</td>\n",
              "      <td>...</td>\n",
              "      <td>...</td>\n",
              "      <td>...</td>\n",
              "      <td>...</td>\n",
              "      <td>...</td>\n",
              "      <td>...</td>\n",
              "      <td>...</td>\n",
              "    </tr>\n",
              "    <tr>\n",
              "      <th>272</th>\n",
              "      <td>85285.0</td>\n",
              "      <td>-7.030308</td>\n",
              "      <td>3.421991</td>\n",
              "      <td>-9.525072</td>\n",
              "      <td>5.270891</td>\n",
              "      <td>-4.024630</td>\n",
              "      <td>-2.865682</td>\n",
              "      <td>-6.989195</td>\n",
              "      <td>3.791551</td>\n",
              "      <td>-4.622730</td>\n",
              "      <td>-8.409665</td>\n",
              "      <td>6.309044</td>\n",
              "      <td>-8.576761</td>\n",
              "      <td>0.246747</td>\n",
              "      <td>-11.534046</td>\n",
              "      <td>-0.364265</td>\n",
              "      <td>-5.452495</td>\n",
              "      <td>-11.887570</td>\n",
              "      <td>-3.563585</td>\n",
              "      <td>0.876019</td>\n",
              "      <td>0.545698</td>\n",
              "      <td>1.103398</td>\n",
              "      <td>-0.541855</td>\n",
              "      <td>0.036943</td>\n",
              "      <td>-0.355519</td>\n",
              "      <td>0.353634</td>\n",
              "      <td>1.042458</td>\n",
              "      <td>1.359516</td>\n",
              "      <td>-0.272188</td>\n",
              "      <td>0.00</td>\n",
              "    </tr>\n",
              "    <tr>\n",
              "      <th>794</th>\n",
              "      <td>124146.0</td>\n",
              "      <td>-2.170643</td>\n",
              "      <td>-0.395896</td>\n",
              "      <td>-0.938187</td>\n",
              "      <td>-0.833246</td>\n",
              "      <td>0.182467</td>\n",
              "      <td>-1.384598</td>\n",
              "      <td>1.220113</td>\n",
              "      <td>0.027988</td>\n",
              "      <td>0.595414</td>\n",
              "      <td>-1.967320</td>\n",
              "      <td>-1.250299</td>\n",
              "      <td>-0.681395</td>\n",
              "      <td>-1.716391</td>\n",
              "      <td>-1.041210</td>\n",
              "      <td>-0.994052</td>\n",
              "      <td>0.762491</td>\n",
              "      <td>0.719534</td>\n",
              "      <td>0.253245</td>\n",
              "      <td>-1.133377</td>\n",
              "      <td>-0.751150</td>\n",
              "      <td>-0.205930</td>\n",
              "      <td>-0.537423</td>\n",
              "      <td>-0.515336</td>\n",
              "      <td>-0.121818</td>\n",
              "      <td>-0.458219</td>\n",
              "      <td>-0.382814</td>\n",
              "      <td>0.082994</td>\n",
              "      <td>-0.150687</td>\n",
              "      <td>242.72</td>\n",
              "    </tr>\n",
              "    <tr>\n",
              "      <th>412</th>\n",
              "      <td>143434.0</td>\n",
              "      <td>-2.729482</td>\n",
              "      <td>3.312495</td>\n",
              "      <td>-4.242710</td>\n",
              "      <td>5.036985</td>\n",
              "      <td>-0.376561</td>\n",
              "      <td>-1.532462</td>\n",
              "      <td>-3.449159</td>\n",
              "      <td>1.856839</td>\n",
              "      <td>-3.623334</td>\n",
              "      <td>-5.653638</td>\n",
              "      <td>3.942316</td>\n",
              "      <td>-5.883724</td>\n",
              "      <td>-1.347814</td>\n",
              "      <td>-9.266120</td>\n",
              "      <td>-2.459556</td>\n",
              "      <td>-2.205644</td>\n",
              "      <td>-5.709087</td>\n",
              "      <td>-1.113937</td>\n",
              "      <td>-1.556530</td>\n",
              "      <td>0.164288</td>\n",
              "      <td>0.727415</td>\n",
              "      <td>-0.301432</td>\n",
              "      <td>-0.502433</td>\n",
              "      <td>-0.462309</td>\n",
              "      <td>0.510683</td>\n",
              "      <td>0.046665</td>\n",
              "      <td>0.514646</td>\n",
              "      <td>0.140999</td>\n",
              "      <td>1.00</td>\n",
              "    </tr>\n",
              "    <tr>\n",
              "      <th>839</th>\n",
              "      <td>120925.0</td>\n",
              "      <td>0.770332</td>\n",
              "      <td>0.961677</td>\n",
              "      <td>-1.805102</td>\n",
              "      <td>0.606707</td>\n",
              "      <td>0.883455</td>\n",
              "      <td>0.401683</td>\n",
              "      <td>-0.212321</td>\n",
              "      <td>-3.004900</td>\n",
              "      <td>-1.181618</td>\n",
              "      <td>-0.149371</td>\n",
              "      <td>0.026322</td>\n",
              "      <td>0.742683</td>\n",
              "      <td>0.571058</td>\n",
              "      <td>1.464099</td>\n",
              "      <td>0.926995</td>\n",
              "      <td>-0.904814</td>\n",
              "      <td>0.011619</td>\n",
              "      <td>0.723185</td>\n",
              "      <td>3.180973</td>\n",
              "      <td>0.964948</td>\n",
              "      <td>-1.072866</td>\n",
              "      <td>1.092898</td>\n",
              "      <td>-0.229132</td>\n",
              "      <td>-1.286775</td>\n",
              "      <td>0.619731</td>\n",
              "      <td>0.718874</td>\n",
              "      <td>0.150836</td>\n",
              "      <td>0.293593</td>\n",
              "      <td>38.25</td>\n",
              "    </tr>\n",
              "    <tr>\n",
              "      <th>104</th>\n",
              "      <td>40086.0</td>\n",
              "      <td>1.083693</td>\n",
              "      <td>1.179501</td>\n",
              "      <td>-1.346150</td>\n",
              "      <td>1.998824</td>\n",
              "      <td>0.818034</td>\n",
              "      <td>-0.771419</td>\n",
              "      <td>0.230307</td>\n",
              "      <td>0.093683</td>\n",
              "      <td>-0.167594</td>\n",
              "      <td>-1.959809</td>\n",
              "      <td>2.804335</td>\n",
              "      <td>0.312424</td>\n",
              "      <td>-0.595976</td>\n",
              "      <td>-4.662577</td>\n",
              "      <td>-0.299515</td>\n",
              "      <td>1.001414</td>\n",
              "      <td>3.902825</td>\n",
              "      <td>1.619609</td>\n",
              "      <td>-0.888087</td>\n",
              "      <td>-0.060159</td>\n",
              "      <td>-0.312000</td>\n",
              "      <td>-0.639700</td>\n",
              "      <td>-0.120249</td>\n",
              "      <td>-0.180218</td>\n",
              "      <td>0.609283</td>\n",
              "      <td>-0.339524</td>\n",
              "      <td>0.096701</td>\n",
              "      <td>0.114972</td>\n",
              "      <td>1.00</td>\n",
              "    </tr>\n",
              "  </tbody>\n",
              "</table>\n",
              "<p>787 rows × 30 columns</p>\n",
              "</div>"
            ],
            "text/plain": [
              "         Time        V1        V2  ...       V27       V28  Amount\n",
              "429  148479.0 -1.541678  3.846800  ...  0.577052  0.398348  122.68\n",
              "594  124641.0 -1.697459  1.125117  ... -0.023450 -0.318815   44.02\n",
              "504  160990.0  1.600931 -0.760494  ... -0.061431 -0.066921  222.04\n",
              "579   60802.0  1.256891  0.412449  ... -0.017815  0.032544    1.98\n",
              "414  143456.0 -2.006582  3.676577  ...  0.485864 -0.042393    1.00\n",
              "..        ...       ...       ...  ...       ...       ...     ...\n",
              "272   85285.0 -7.030308  3.421991  ...  1.359516 -0.272188    0.00\n",
              "794  124146.0 -2.170643 -0.395896  ...  0.082994 -0.150687  242.72\n",
              "412  143434.0 -2.729482  3.312495  ...  0.514646  0.140999    1.00\n",
              "839  120925.0  0.770332  0.961677  ...  0.150836  0.293593   38.25\n",
              "104   40086.0  1.083693  1.179501  ...  0.096701  0.114972    1.00\n",
              "\n",
              "[787 rows x 30 columns]"
            ]
          },
          "metadata": {
            "tags": []
          },
          "execution_count": 17
        }
      ]
    },
    {
      "cell_type": "markdown",
      "metadata": {
        "id": "1We80AMZOpzd",
        "colab_type": "text"
      },
      "source": [
        "### Scale data to deal with the high variance in the data, and converrtr data into numpy array."
      ]
    },
    {
      "cell_type": "code",
      "metadata": {
        "id": "nANgWLRbuxTE",
        "colab_type": "code",
        "colab": {
          "base_uri": "https://localhost:8080/",
          "height": 242
        },
        "outputId": "ae1d025f-0af2-458e-cb6c-a9f96ca9fd86"
      },
      "source": [
        "scaler=StandardScaler()\n",
        "X_train=scaler.fit_transform(X_train)\n",
        "X_test=scaler.fit_transform(X_test)\n",
        "X_train"
      ],
      "execution_count": 18,
      "outputs": [
        {
          "output_type": "execute_result",
          "data": {
            "text/plain": [
              "array([[ 1.22900548,  0.12915879,  0.6065327 , ...,  0.46968411,\n",
              "         0.81624783,  0.06361708],\n",
              "       [ 0.7406253 ,  0.09929788, -0.1578964 , ..., -0.10047883,\n",
              "        -0.75275784, -0.23771181],\n",
              "       [ 1.48532415,  0.73155423, -0.6875014 , ..., -0.13654075,\n",
              "        -0.20166516,  0.44424305],\n",
              "       ...,\n",
              "       [ 1.12564622, -0.09852693,  0.45646435, ...,  0.41043125,\n",
              "         0.25321988, -0.40251183],\n",
              "       [ 0.66449388,  0.57233965, -0.20380126, ...,  0.06500157,\n",
              "         0.58706417, -0.25981539],\n",
              "       [-0.99169225,  0.63240661, -0.14262183, ...,  0.01360227,\n",
              "         0.19627872, -0.40251183]])"
            ]
          },
          "metadata": {
            "tags": []
          },
          "execution_count": 18
        }
      ]
    },
    {
      "cell_type": "code",
      "metadata": {
        "id": "OyLcaUMAuza6",
        "colab_type": "code",
        "colab": {
          "base_uri": "https://localhost:8080/",
          "height": 639
        },
        "outputId": "2bb87a7a-f8d0-46e1-9573-316dcc50fb21"
      },
      "source": [
        "y_train=y_train.to_numpy()\n",
        "y_test=y_test.to_numpy()\n",
        "y_train"
      ],
      "execution_count": 19,
      "outputs": [
        {
          "output_type": "execute_result",
          "data": {
            "text/plain": [
              "array([1, 0, 0, 0, 1, 0, 1, 0, 1, 0, 1, 1, 0, 0, 1, 1, 1, 1, 1, 1, 1, 1,\n",
              "       0, 0, 0, 1, 0, 1, 1, 0, 0, 0, 0, 0, 1, 1, 1, 0, 0, 0, 1, 0, 1, 1,\n",
              "       0, 0, 0, 1, 0, 0, 0, 1, 0, 0, 0, 0, 0, 0, 0, 0, 0, 1, 0, 1, 0, 1,\n",
              "       0, 0, 1, 1, 0, 0, 0, 1, 1, 0, 0, 1, 0, 1, 1, 0, 0, 0, 1, 1, 1, 1,\n",
              "       0, 0, 0, 1, 1, 0, 1, 1, 0, 1, 0, 0, 1, 0, 0, 0, 1, 0, 1, 1, 0, 1,\n",
              "       0, 1, 1, 1, 0, 1, 0, 1, 0, 1, 0, 1, 0, 1, 0, 1, 1, 1, 1, 0, 0, 0,\n",
              "       1, 1, 0, 0, 1, 0, 0, 0, 1, 1, 1, 1, 1, 1, 0, 0, 0, 0, 0, 1, 0, 0,\n",
              "       1, 0, 1, 0, 0, 0, 0, 1, 0, 1, 1, 0, 1, 0, 1, 0, 1, 0, 0, 1, 0, 0,\n",
              "       0, 1, 0, 1, 0, 1, 1, 0, 1, 1, 1, 1, 1, 0, 1, 1, 1, 1, 1, 1, 0, 1,\n",
              "       0, 1, 0, 0, 1, 0, 0, 0, 0, 1, 0, 0, 0, 1, 1, 1, 1, 1, 1, 1, 0, 1,\n",
              "       0, 0, 1, 0, 1, 1, 0, 1, 0, 1, 1, 0, 1, 0, 1, 1, 0, 1, 0, 1, 0, 0,\n",
              "       1, 0, 0, 0, 0, 1, 0, 1, 0, 0, 0, 0, 0, 0, 0, 0, 1, 1, 1, 1, 1, 0,\n",
              "       0, 0, 0, 1, 1, 1, 1, 1, 1, 0, 0, 1, 1, 0, 0, 0, 0, 0, 0, 1, 0, 1,\n",
              "       0, 0, 0, 1, 0, 0, 0, 1, 1, 0, 0, 1, 0, 0, 1, 1, 1, 1, 1, 1, 0, 0,\n",
              "       0, 0, 0, 0, 1, 0, 1, 1, 1, 1, 1, 1, 0, 1, 0, 1, 0, 0, 1, 0, 0, 0,\n",
              "       0, 1, 0, 0, 0, 0, 1, 1, 0, 0, 0, 1, 0, 1, 1, 0, 1, 0, 1, 0, 1, 0,\n",
              "       0, 0, 1, 0, 1, 0, 1, 1, 1, 0, 0, 1, 0, 0, 0, 0, 0, 1, 0, 1, 1, 1,\n",
              "       0, 1, 1, 0, 1, 1, 0, 0, 1, 1, 0, 0, 0, 1, 1, 1, 0, 0, 0, 1, 0, 1,\n",
              "       1, 0, 0, 0, 1, 1, 1, 1, 1, 1, 1, 1, 1, 0, 0, 0, 0, 0, 0, 0, 1, 1,\n",
              "       1, 0, 1, 1, 0, 0, 1, 0, 1, 0, 0, 1, 0, 0, 1, 1, 0, 1, 1, 0, 1, 0,\n",
              "       0, 0, 1, 1, 1, 0, 0, 0, 0, 1, 1, 1, 1, 1, 1, 0, 0, 0, 1, 1, 1, 1,\n",
              "       1, 0, 0, 0, 0, 0, 1, 1, 0, 0, 1, 0, 0, 0, 1, 0, 0, 1, 0, 1, 1, 1,\n",
              "       1, 1, 1, 1, 1, 1, 0, 1, 0, 1, 0, 0, 0, 0, 1, 1, 1, 1, 0, 0, 1, 1,\n",
              "       1, 1, 0, 1, 0, 0, 1, 0, 0, 0, 1, 0, 1, 1, 0, 0, 1, 1, 0, 0, 1, 1,\n",
              "       1, 0, 1, 1, 0, 0, 0, 1, 0, 1, 0, 0, 0, 1, 1, 1, 1, 1, 0, 0, 0, 1,\n",
              "       0, 1, 0, 0, 1, 1, 0, 1, 0, 1, 0, 1, 1, 0, 0, 0, 0, 1, 1, 1, 1, 1,\n",
              "       0, 0, 0, 1, 0, 0, 1, 1, 1, 0, 0, 1, 0, 0, 0, 0, 1, 0, 1, 1, 0, 0,\n",
              "       1, 0, 1, 1, 0, 1, 1, 1, 1, 0, 1, 1, 0, 1, 1, 1, 1, 1, 1, 0, 0, 0,\n",
              "       0, 1, 1, 1, 1, 0, 1, 0, 0, 1, 0, 1, 1, 1, 1, 0, 0, 1, 1, 1, 0, 1,\n",
              "       1, 0, 0, 1, 1, 1, 0, 1, 0, 1, 0, 1, 0, 1, 1, 0, 0, 1, 0, 1, 1, 0,\n",
              "       0, 0, 0, 0, 1, 1, 1, 1, 1, 0, 0, 1, 1, 0, 1, 0, 0, 1, 1, 0, 0, 1,\n",
              "       1, 1, 0, 0, 0, 0, 1, 0, 0, 0, 0, 1, 1, 0, 0, 1, 0, 1, 1, 1, 0, 1,\n",
              "       1, 0, 1, 0, 0, 1, 1, 1, 0, 1, 0, 0, 1, 1, 1, 1, 1, 0, 1, 0, 1, 1,\n",
              "       1, 0, 1, 1, 0, 1, 0, 1, 0, 0, 1, 0, 0, 0, 1, 0, 1, 1, 0, 0, 0, 1,\n",
              "       0, 1, 0, 1, 0, 0, 1, 1, 1, 0, 1, 0, 0, 1, 0, 0, 0, 1, 1, 1, 0, 1,\n",
              "       0, 0, 0, 0, 1, 1, 0, 1, 1, 0, 1, 1, 1, 0, 1, 0, 1])"
            ]
          },
          "metadata": {
            "tags": []
          },
          "execution_count": 19
        }
      ]
    },
    {
      "cell_type": "markdown",
      "metadata": {
        "id": "RT4y7r8cO-LQ",
        "colab_type": "text"
      },
      "source": [
        "### Change shape of data to be processed by CNN model."
      ]
    },
    {
      "cell_type": "code",
      "metadata": {
        "id": "SXOapKN-u20m",
        "colab_type": "code",
        "colab": {
          "base_uri": "https://localhost:8080/",
          "height": 35
        },
        "outputId": "b40c9834-d078-48ce-ba9a-5525523dd31e"
      },
      "source": [
        "X_train = X_train.reshape(X_train.shape[0],X_train.shape[1],1)\n",
        "X_test = X_test.reshape(X_test.shape[0],X_test.shape[1],1)\n",
        "\n",
        "X_train.shape, X_test.shape"
      ],
      "execution_count": 20,
      "outputs": [
        {
          "output_type": "execute_result",
          "data": {
            "text/plain": [
              "((787, 30, 1), (197, 30, 1))"
            ]
          },
          "metadata": {
            "tags": []
          },
          "execution_count": 20
        }
      ]
    },
    {
      "cell_type": "markdown",
      "metadata": {
        "id": "bLuDlQw7PXFq",
        "colab_type": "text"
      },
      "source": [
        "# 4. Build CNN model"
      ]
    },
    {
      "cell_type": "code",
      "metadata": {
        "id": "eHXcj_WDu78R",
        "colab_type": "code",
        "colab": {}
      },
      "source": [
        "model=Sequential()\n",
        "\n",
        "model.add(Conv1D(filters=32, kernel_size=2, activation='relu', input_shape=X_train[0].shape))\n",
        "model.add(BatchNormalization())\n",
        "# model.add(MaxPooling1D(2))\n",
        "model.add(Dropout(0.1))\n",
        "\n",
        "model.add(Conv1D(filters=64, kernel_size=2, activation='relu'))\n",
        "model.add(BatchNormalization())\n",
        "# model.add(MaxPooling1D(2))\n",
        "model.add(Dropout(0.2))\n",
        "\n",
        "# convert input into single array\n",
        "model.add(Flatten())\n",
        "# a hidden fully-connected layer with 64 nodes\n",
        "model.add(Dense(64, activation='relu'))\n",
        "model.add(Dropout(0.5))\n",
        "\n",
        "# a hidden fully-connected layer with 1 node\n",
        "model.add(Dense(1, activation='sigmoid'))"
      ],
      "execution_count": 21,
      "outputs": []
    },
    {
      "cell_type": "code",
      "metadata": {
        "id": "T6v5koAAzonC",
        "colab_type": "code",
        "colab": {
          "base_uri": "https://localhost:8080/",
          "height": 35
        },
        "outputId": "406081ae-4f7a-4aea-e2f0-e3d7c2e1a977"
      },
      "source": [
        "X_train[0].shape"
      ],
      "execution_count": 22,
      "outputs": [
        {
          "output_type": "execute_result",
          "data": {
            "text/plain": [
              "(30, 1)"
            ]
          },
          "metadata": {
            "tags": []
          },
          "execution_count": 22
        }
      ]
    },
    {
      "cell_type": "code",
      "metadata": {
        "id": "vQDr6PAnxyjw",
        "colab_type": "code",
        "colab": {
          "base_uri": "https://localhost:8080/",
          "height": 501
        },
        "outputId": "462a8617-f15f-427a-f316-b374cff1930f"
      },
      "source": [
        "model.summary()"
      ],
      "execution_count": 23,
      "outputs": [
        {
          "output_type": "stream",
          "text": [
            "Model: \"sequential\"\n",
            "_________________________________________________________________\n",
            "Layer (type)                 Output Shape              Param #   \n",
            "=================================================================\n",
            "conv1d (Conv1D)              (None, 29, 32)            96        \n",
            "_________________________________________________________________\n",
            "batch_normalization (BatchNo (None, 29, 32)            128       \n",
            "_________________________________________________________________\n",
            "dropout (Dropout)            (None, 29, 32)            0         \n",
            "_________________________________________________________________\n",
            "conv1d_1 (Conv1D)            (None, 28, 64)            4160      \n",
            "_________________________________________________________________\n",
            "batch_normalization_1 (Batch (None, 28, 64)            256       \n",
            "_________________________________________________________________\n",
            "dropout_1 (Dropout)          (None, 28, 64)            0         \n",
            "_________________________________________________________________\n",
            "flatten (Flatten)            (None, 1792)              0         \n",
            "_________________________________________________________________\n",
            "dense (Dense)                (None, 64)                114752    \n",
            "_________________________________________________________________\n",
            "dropout_2 (Dropout)          (None, 64)                0         \n",
            "_________________________________________________________________\n",
            "dense_1 (Dense)              (None, 1)                 65        \n",
            "=================================================================\n",
            "Total params: 119,457\n",
            "Trainable params: 119,265\n",
            "Non-trainable params: 192\n",
            "_________________________________________________________________\n"
          ],
          "name": "stdout"
        }
      ]
    },
    {
      "cell_type": "code",
      "metadata": {
        "id": "BSZ-aKJWx0tf",
        "colab_type": "code",
        "colab": {}
      },
      "source": [
        "# compile model\n",
        "model.compile(optimizer=Adam(learning_rate=0.0001),loss='binary_crossentropy',metrics=['accuracy'])"
      ],
      "execution_count": 24,
      "outputs": []
    },
    {
      "cell_type": "markdown",
      "metadata": {
        "id": "Lf9FgvyruB2h",
        "colab_type": "text"
      },
      "source": [
        "### I observed that using the sigmoid function in the last layer yields a higher accuracy than using relu. When relu was used before, the validation accuracy was approximately 90%. But as seen here the validation accuracy reached 94.9%. The following can be seen at the bottom of the `history`:\n",
        "\n",
        "```\n",
        "training loss: 0.1474\n",
        "training accuracy: 0.9492\n",
        "validation loss: 0.0.1297\n",
        "validation accuracy: 0.9492\n",
        "```\n",
        "\n"
      ]
    },
    {
      "cell_type": "code",
      "metadata": {
        "id": "tNElQlDjx8Cq",
        "colab_type": "code",
        "colab": {
          "base_uri": "https://localhost:8080/",
          "height": 901
        },
        "outputId": "e2b55bdc-ade2-4d39-9456-f837017628c2"
      },
      "source": [
        "# fit the model (training happens here)\n",
        "history = model.fit(X_train, y_train, epochs=25, validation_data=(X_test, y_test), shuffle=True)"
      ],
      "execution_count": 25,
      "outputs": [
        {
          "output_type": "stream",
          "text": [
            "Epoch 1/25\n",
            "25/25 [==============================] - 0s 17ms/step - loss: 0.7243 - accuracy: 0.7001 - val_loss: 0.5956 - val_accuracy: 0.8528\n",
            "Epoch 2/25\n",
            "25/25 [==============================] - 0s 8ms/step - loss: 0.4180 - accuracy: 0.8361 - val_loss: 0.5643 - val_accuracy: 0.9340\n",
            "Epoch 3/25\n",
            "25/25 [==============================] - 0s 9ms/step - loss: 0.2865 - accuracy: 0.8996 - val_loss: 0.5368 - val_accuracy: 0.9340\n",
            "Epoch 4/25\n",
            "25/25 [==============================] - 0s 9ms/step - loss: 0.2810 - accuracy: 0.8983 - val_loss: 0.5049 - val_accuracy: 0.9137\n",
            "Epoch 5/25\n",
            "25/25 [==============================] - 0s 9ms/step - loss: 0.2734 - accuracy: 0.8996 - val_loss: 0.4775 - val_accuracy: 0.9086\n",
            "Epoch 6/25\n",
            "25/25 [==============================] - 0s 10ms/step - loss: 0.2312 - accuracy: 0.9187 - val_loss: 0.4524 - val_accuracy: 0.8985\n",
            "Epoch 7/25\n",
            "25/25 [==============================] - 0s 9ms/step - loss: 0.2533 - accuracy: 0.9098 - val_loss: 0.4259 - val_accuracy: 0.9036\n",
            "Epoch 8/25\n",
            "25/25 [==============================] - 0s 9ms/step - loss: 0.2334 - accuracy: 0.9111 - val_loss: 0.3857 - val_accuracy: 0.9239\n",
            "Epoch 9/25\n",
            "25/25 [==============================] - 0s 9ms/step - loss: 0.2221 - accuracy: 0.9250 - val_loss: 0.3331 - val_accuracy: 0.9188\n",
            "Epoch 10/25\n",
            "25/25 [==============================] - 0s 9ms/step - loss: 0.2006 - accuracy: 0.9238 - val_loss: 0.3060 - val_accuracy: 0.9289\n",
            "Epoch 11/25\n",
            "25/25 [==============================] - 0s 9ms/step - loss: 0.2023 - accuracy: 0.9199 - val_loss: 0.2703 - val_accuracy: 0.9391\n",
            "Epoch 12/25\n",
            "25/25 [==============================] - 0s 9ms/step - loss: 0.1789 - accuracy: 0.9377 - val_loss: 0.2365 - val_accuracy: 0.9442\n",
            "Epoch 13/25\n",
            "25/25 [==============================] - 0s 9ms/step - loss: 0.1666 - accuracy: 0.9365 - val_loss: 0.2091 - val_accuracy: 0.9391\n",
            "Epoch 14/25\n",
            "25/25 [==============================] - 0s 9ms/step - loss: 0.1617 - accuracy: 0.9441 - val_loss: 0.1966 - val_accuracy: 0.9340\n",
            "Epoch 15/25\n",
            "25/25 [==============================] - 0s 9ms/step - loss: 0.1772 - accuracy: 0.9263 - val_loss: 0.1775 - val_accuracy: 0.9391\n",
            "Epoch 16/25\n",
            "25/25 [==============================] - 0s 8ms/step - loss: 0.1827 - accuracy: 0.9276 - val_loss: 0.1612 - val_accuracy: 0.9492\n",
            "Epoch 17/25\n",
            "25/25 [==============================] - 0s 9ms/step - loss: 0.1831 - accuracy: 0.9276 - val_loss: 0.1594 - val_accuracy: 0.9543\n",
            "Epoch 18/25\n",
            "25/25 [==============================] - 0s 9ms/step - loss: 0.1575 - accuracy: 0.9441 - val_loss: 0.1523 - val_accuracy: 0.9543\n",
            "Epoch 19/25\n",
            "25/25 [==============================] - 0s 10ms/step - loss: 0.1700 - accuracy: 0.9377 - val_loss: 0.1437 - val_accuracy: 0.9543\n",
            "Epoch 20/25\n",
            "25/25 [==============================] - 0s 9ms/step - loss: 0.1734 - accuracy: 0.9466 - val_loss: 0.1418 - val_accuracy: 0.9492\n",
            "Epoch 21/25\n",
            "25/25 [==============================] - 0s 9ms/step - loss: 0.1484 - accuracy: 0.9441 - val_loss: 0.1393 - val_accuracy: 0.9492\n",
            "Epoch 22/25\n",
            "25/25 [==============================] - 0s 9ms/step - loss: 0.1463 - accuracy: 0.9390 - val_loss: 0.1368 - val_accuracy: 0.9492\n",
            "Epoch 23/25\n",
            "25/25 [==============================] - 0s 10ms/step - loss: 0.1430 - accuracy: 0.9454 - val_loss: 0.1344 - val_accuracy: 0.9492\n",
            "Epoch 24/25\n",
            "25/25 [==============================] - 0s 9ms/step - loss: 0.1554 - accuracy: 0.9428 - val_loss: 0.1297 - val_accuracy: 0.9492\n",
            "Epoch 25/25\n",
            "25/25 [==============================] - 0s 9ms/step - loss: 0.1474 - accuracy: 0.9492 - val_loss: 0.1297 - val_accuracy: 0.9492\n"
          ],
          "name": "stdout"
        }
      ]
    },
    {
      "cell_type": "markdown",
      "metadata": {
        "id": "EOkyuopvSW_Y",
        "colab_type": "text"
      },
      "source": [
        "#5. Plot Training and Validation Accuracy\n",
        "### As seen, the accuracy gradually increases and loss decreases in each epoch, which is what we want."
      ]
    },
    {
      "cell_type": "code",
      "metadata": {
        "id": "fUGQtDtZx-O4",
        "colab_type": "code",
        "colab": {}
      },
      "source": [
        "def plotLearningCurve(history,epochs):\n",
        "  epochRange = range(1, epochs+1)\n",
        "  plt.plot(epochRange, history.history['accuracy'])\n",
        "  plt.plot(epochRange, history.history['val_accuracy'])\n",
        "  plt.title('Model Accuracy')\n",
        "  plt.xlabel('Epoch')\n",
        "  plt.ylabel('Accuracy')\n",
        "  plt.legend(['Train','Validation'],loc='upper left')\n",
        "  plt.show()\n",
        "\n",
        "  plt.plot(epochRange,history.history['loss'])\n",
        "  plt.plot(epochRange,history.history['val_loss'])\n",
        "  plt.title('Model Loss')\n",
        "  plt.xlabel('Epoch')\n",
        "  plt.ylabel('Loss')\n",
        "  plt.legend(['Train','Validation'],loc='upper left')\n",
        "  plt.show()"
      ],
      "execution_count": 26,
      "outputs": []
    },
    {
      "cell_type": "code",
      "metadata": {
        "id": "zuheBuxayB2A",
        "colab_type": "code",
        "colab": {
          "base_uri": "https://localhost:8080/",
          "height": 573
        },
        "outputId": "f8d3f71f-375a-4740-a879-4bed252e7d46"
      },
      "source": [
        "plotLearningCurve(history,25)"
      ],
      "execution_count": 27,
      "outputs": [
        {
          "output_type": "display_data",
          "data": {
            "image/png": "[encoded data removed]",
            "text/plain": [
              "<Figure size 432x288 with 1 Axes>"
            ]
          },
          "metadata": {
            "tags": [],
            "needs_background": "light"
          }
        },
        {
          "output_type": "display_data",
          "data": {
            "image/png": "[encoded data removed]",
            "text/plain": [
              "<Figure size 432x288 with 1 Axes>"
            ]
          },
          "metadata": {
            "tags": [],
            "needs_background": "light"
          }
        }
      ]
    }
  ]
}